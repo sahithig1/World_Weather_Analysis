{
 "cells": [
  {
   "cell_type": "code",
   "execution_count": 1,
   "id": "09861361",
   "metadata": {},
   "outputs": [],
   "source": [
    "# Import the random module\n",
    "import random"
   ]
  },
  {
   "cell_type": "code",
   "execution_count": 4,
   "id": "f922830d",
   "metadata": {},
   "outputs": [
    {
     "data": {
      "text/plain": [
       "24"
      ]
     },
     "execution_count": 4,
     "metadata": {},
     "output_type": "execute_result"
    }
   ],
   "source": [
    "random.randint(-90,90)"
   ]
  },
  {
   "cell_type": "code",
   "execution_count": 5,
   "id": "b409ab60",
   "metadata": {},
   "outputs": [
    {
     "data": {
      "text/plain": [
       "0.2416293324179748"
      ]
     },
     "execution_count": 5,
     "metadata": {},
     "output_type": "execute_result"
    }
   ],
   "source": [
    "random.random()"
   ]
  },
  {
   "cell_type": "code",
   "execution_count": 22,
   "id": "8a7f5407",
   "metadata": {},
   "outputs": [
    {
     "data": {
      "text/plain": [
       "6"
      ]
     },
     "execution_count": 22,
     "metadata": {},
     "output_type": "execute_result"
    }
   ],
   "source": [
    "random.randrange(-9,9,3)"
   ]
  },
  {
   "cell_type": "code",
   "execution_count": 25,
   "id": "d9a62c88",
   "metadata": {},
   "outputs": [
    {
     "data": {
      "text/plain": [
       "-8.064797270668997"
      ]
     },
     "execution_count": 25,
     "metadata": {},
     "output_type": "execute_result"
    }
   ],
   "source": [
    "random.uniform(-10,10)"
   ]
  },
  {
   "cell_type": "code",
   "execution_count": 30,
   "id": "c1e8222a",
   "metadata": {},
   "outputs": [
    {
     "data": {
      "text/plain": [
       "37.92894436143753"
      ]
     },
     "execution_count": 30,
     "metadata": {},
     "output_type": "execute_result"
    }
   ],
   "source": [
    "random_number=random.randint(-90,89)+random.random()\n",
    "random_number"
   ]
  },
  {
   "cell_type": "code",
   "execution_count": 32,
   "id": "681e9b02",
   "metadata": {},
   "outputs": [
    {
     "data": {
      "text/plain": [
       "[-46.342237942242505,\n",
       " -65.45250457828246,\n",
       " 71.12680671279509,\n",
       " -28.343087801267515,\n",
       " -52.155575278520445,\n",
       " 22.092794494274962,\n",
       " 34.922197491682596,\n",
       " 18.823203336307127,\n",
       " -13.10829533978226,\n",
       " -30.233117681725783]"
      ]
     },
     "execution_count": 32,
     "metadata": {},
     "output_type": "execute_result"
    }
   ],
   "source": [
    "x=1\n",
    "latitudes=[]\n",
    "while x<=10:\n",
    "    random_latitude=random.randint(-90,89)+random.random()\n",
    "    latitudes.append(random_latitude)\n",
    "    \n",
    "    x+=1\n",
    "    \n",
    "latitudes\n"
   ]
  },
  {
   "cell_type": "code",
   "execution_count": 33,
   "id": "25c2ab35",
   "metadata": {},
   "outputs": [
    {
     "data": {
      "text/plain": [
       "76"
      ]
     },
     "execution_count": 33,
     "metadata": {},
     "output_type": "execute_result"
    }
   ],
   "source": [
    "random.randrange(-90, 90, step=1)\n"
   ]
  },
  {
   "cell_type": "code",
   "execution_count": 34,
   "id": "0ef63365",
   "metadata": {},
   "outputs": [
    {
     "data": {
      "text/plain": [
       "66"
      ]
     },
     "execution_count": 34,
     "metadata": {},
     "output_type": "execute_result"
    }
   ],
   "source": [
    "random.randrange(-90, 90, step=3)"
   ]
  },
  {
   "cell_type": "code",
   "execution_count": 38,
   "id": "c32ba20a",
   "metadata": {},
   "outputs": [
    {
     "data": {
      "text/plain": [
       "-29.521779985571666"
      ]
     },
     "execution_count": 38,
     "metadata": {},
     "output_type": "execute_result"
    }
   ],
   "source": [
    "random_number=random.randrange(-90,90,step=2)+random.random()\n",
    "random_number"
   ]
  },
  {
   "cell_type": "code",
   "execution_count": 39,
   "id": "e5da495d",
   "metadata": {},
   "outputs": [
    {
     "data": {
      "text/plain": [
       "57.752238153876135"
      ]
     },
     "execution_count": 39,
     "metadata": {},
     "output_type": "execute_result"
    }
   ],
   "source": [
    "random.uniform(-90, 90)\n"
   ]
  },
  {
   "cell_type": "code",
   "execution_count": 40,
   "id": "37c52304",
   "metadata": {},
   "outputs": [],
   "source": [
    "# Import the NumPy module.\n",
    "import numpy as np"
   ]
  },
  {
   "cell_type": "code",
   "execution_count": 41,
   "id": "d294027e",
   "metadata": {},
   "outputs": [
    {
     "data": {
      "text/plain": [
       "-75.16245762159124"
      ]
     },
     "execution_count": 41,
     "metadata": {},
     "output_type": "execute_result"
    }
   ],
   "source": [
    "np.random.uniform(-90.000, 90.000)"
   ]
  },
  {
   "cell_type": "code",
   "execution_count": 42,
   "id": "bc50076c",
   "metadata": {},
   "outputs": [
    {
     "data": {
      "text/plain": [
       "array([ 43.70941972, -29.10540832, -18.92666167,  -8.00138504,\n",
       "       -36.90948039,  42.11659732,  55.56604516, -69.88253631,\n",
       "         4.21273089,  76.06712922, -60.59835807, -27.93142425,\n",
       "        44.12136795,  17.35174011,  40.82799641, -33.77317773,\n",
       "        11.68191027,  53.61201827,   8.90960327,  51.24547579,\n",
       "       -83.81269647,  89.4367344 , -54.65030996, -85.30536247,\n",
       "       -61.3972414 ,  23.43210876, -32.14065016, -37.74530633,\n",
       "        40.78064703,   1.9266695 ,  53.05317619, -10.93018088,\n",
       "        16.19514162, -89.31879097, -23.91831058, -89.19124858,\n",
       "         9.81614801,  46.2564526 ,  32.01264743, -43.29462952,\n",
       "       -44.29746052,  53.33363633, -65.09004124, -61.50895194,\n",
       "        43.63064683, -32.07227895,  -5.55565415,  38.37322788,\n",
       "       -18.89788409,  15.23889437])"
      ]
     },
     "execution_count": 42,
     "metadata": {},
     "output_type": "execute_result"
    }
   ],
   "source": [
    "np.random.uniform(-90.000, 90.000, size=50)"
   ]
  },
  {
   "cell_type": "code",
   "execution_count": 47,
   "id": "beeb9624",
   "metadata": {},
   "outputs": [],
   "source": [
    "# Import timeit.\n",
    "import timeit"
   ]
  },
  {
   "cell_type": "code",
   "execution_count": 48,
   "id": "29349be5",
   "metadata": {},
   "outputs": [
    {
     "name": "stdout",
     "output_type": "stream",
     "text": [
      "15.6 µs ± 398 ns per loop (mean ± std. dev. of 7 runs, 100,000 loops each)\n"
     ]
    }
   ],
   "source": [
    "%timeit np.random.uniform(-90.000, 90.000, size=1500)"
   ]
  },
  {
   "cell_type": "code",
   "execution_count": 49,
   "id": "bbbd4b68",
   "metadata": {},
   "outputs": [
    {
     "name": "stdout",
     "output_type": "stream",
     "text": [
      "1.45 ms ± 15.3 µs per loop (mean ± std. dev. of 7 runs, 1,000 loops each)\n"
     ]
    }
   ],
   "source": [
    "def latitudes(size):\n",
    "    latitudes = []\n",
    "    x = 0\n",
    "    while x < (size):\n",
    "        random_lat = random.randint(-90, 90) + random.random()\n",
    "        latitudes.append(random_lat)\n",
    "        x += 1\n",
    "    return latitudes\n",
    "# Call the function with 1500.\n",
    "%timeit latitudes(1500)"
   ]
  },
  {
   "cell_type": "code",
   "execution_count": null,
   "id": "4f1c10f1",
   "metadata": {},
   "outputs": [],
   "source": []
  }
 ],
 "metadata": {
  "kernelspec": {
   "display_name": "PythonData",
   "language": "python",
   "name": "pythondata"
  },
  "language_info": {
   "codemirror_mode": {
    "name": "ipython",
    "version": 3
   },
   "file_extension": ".py",
   "mimetype": "text/x-python",
   "name": "python",
   "nbconvert_exporter": "python",
   "pygments_lexer": "ipython3",
   "version": "3.9.12"
  }
 },
 "nbformat": 4,
 "nbformat_minor": 5
}
